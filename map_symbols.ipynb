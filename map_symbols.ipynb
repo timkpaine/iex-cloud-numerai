{
 "cells": [
  {
   "cell_type": "code",
   "execution_count": 1,
   "metadata": {
    "id": "8SHOTsA7S1kG"
   },
   "outputs": [],
   "source": [
    "import numerapi\n",
    "import pyEX\n",
    "import pandas as pd\n",
    "import os\n",
    "from tqdm import tqdm"
   ]
  },
  {
   "cell_type": "code",
   "execution_count": 2,
   "metadata": {
    "id": "ilajosOCTNYN"
   },
   "outputs": [],
   "source": [
    "napi = numerapi.SignalsAPI(os.environ[\"NUMERAIAPIPUBLIC\"], os.environ[\"NUMERAIAPIPRIVATE\"])\n",
    "client = pyEX.Client()"
   ]
  },
  {
   "cell_type": "code",
   "execution_count": 3,
   "metadata": {
    "colab": {
     "base_uri": "https://localhost:8080/",
     "height": 34
    },
    "id": "7dBSZo-QTUVk",
    "outputId": "b05f5275-cd23-44ed-8a27-d6b92716b5d7"
   },
   "outputs": [],
   "source": [
    "numerai_tickers = napi.ticker_universe()"
   ]
  },
  {
   "cell_type": "code",
   "execution_count": 4,
   "metadata": {
    "colab": {
     "base_uri": "https://localhost:8080/",
     "height": 34
    },
    "id": "xZGJoRxJUTwV",
    "outputId": "43711d91-66c3-44bb-c5e6-ae2becfcd41c"
   },
   "outputs": [],
   "source": [
    "country_map = {\n",
    "    'AU': 'AU', # Australia\n",
    "    'AV': 'AT', # Vienna\n",
    "    'BB': 'BE', # Brussels\n",
    "    'BZ': 'BR', # Brazil (B3)\n",
    "    'CN': 'CA', # Toronto\n",
    "    'CP': 'CZ', # Prague\n",
    "    'DC': 'DK', # Copenhagen\n",
    "    'FH': 'FI', # Helsinki\n",
    "    'FP': 'FR', # Paris\n",
    "    'GA': 'GR', # Athens\n",
    "    'GR': 'DE', # Xetra\n",
    "    'HB': 'HU', # Budapest\n",
    "    'HK': 'HK', # Hong Kong\n",
    "    'ID': 'IE', # Dublin\n",
    "    'IJ': 'ID', # Jakarta\n",
    "    'IM': 'IT', # Milan\n",
    "    'IT': 'IL', # Tel Aviv\n",
    "    'JP': 'JP', # Japan\n",
    "    'KS': 'KR', # Korea\n",
    "    'LN': 'GB', # London\n",
    "    'MF': 'MX', # Mexico\n",
    "    'MK': 'MY', # Kuala Lumpur\n",
    "    'NA': 'NL', # Amsterdam\n",
    "    'NO': 'NO', # Oslo\n",
    "    'NZ': 'NZ', # New Zealand\n",
    "    'PL': 'PT', # Lisbon\n",
    "    'PM': 'PH', # Philippines\n",
    "    'PW': 'PL', # Warsaw\n",
    "    'SJ': 'ZA', # Johannesburg\n",
    "    'SM': 'ES', # Madrid\n",
    "    'SP': 'SG', # Singapore\n",
    "    'SS': 'SE', # Stockholm\n",
    "    'SW': 'CH', # Switzerland\n",
    "    'TB': 'TH', # Thailand\n",
    "    'TI': 'TR', # Istanbul\n",
    "    'TT': 'TW', # Taiwan\n",
    "    'US': 'US', # RegNMS\n",
    "}"
   ]
  },
  {
   "cell_type": "code",
   "execution_count": 5,
   "metadata": {
    "colab": {
     "base_uri": "https://localhost:8080/",
     "height": 34
    },
    "id": "xZGJoRxJUTwV",
    "outputId": "43711d91-66c3-44bb-c5e6-ae2becfcd41c"
   },
   "outputs": [],
   "source": [
    "# assemble symbols for IEX\n",
    "symbols_per_region = {\n",
    "    region: client.internationalSymbolsDF(region=region) for region in country_map.values()\n",
    "}"
   ]
  },
  {
   "cell_type": "code",
   "execution_count": 6,
   "metadata": {
    "colab": {
     "base_uri": "https://localhost:8080/",
     "height": 34
    },
    "id": "xZGJoRxJUTwV",
    "outputId": "43711d91-66c3-44bb-c5e6-ae2becfcd41c"
   },
   "outputs": [],
   "source": [
    "# Known Tickers\n",
    "# assemble from prior runs\n",
    "df_known = pd.read_csv(\"ticker_map.csv\").fillna(\"\")\n",
    "overrides = {_[0]: _[1] for _ in df_known.values if _[1] != \"\"}"
   ]
  },
  {
   "cell_type": "code",
   "execution_count": 7,
   "metadata": {
    "colab": {
     "base_uri": "https://localhost:8080/",
     "height": 34
    },
    "id": "xZGJoRxJUTwV",
    "outputId": "43711d91-66c3-44bb-c5e6-ae2becfcd41c"
   },
   "outputs": [
    {
     "name": "stderr",
     "output_type": "stream",
     "text": [
      "100%|██████████| 5377/5377 [00:00<00:00, 102849.67it/s]\n"
     ]
    }
   ],
   "source": [
    "iex_tickers = []\n",
    "no_matches = []\n",
    "multiple_matches = []\n",
    "\n",
    "for numerai_ticker in tqdm(numerai_tickers):\n",
    "    ticker, country = numerai_ticker.split(\" \")\n",
    "    \n",
    "    iex_region = country_map[country]\n",
    "\n",
    "    if iex_region not in symbols_per_region:\n",
    "        print(f\"missing region: {iex_region}\")\n",
    "\n",
    "    # short circuit for known\n",
    "    if numerai_ticker in overrides:\n",
    "        iex_tickers.append([numerai_ticker, overrides[numerai_ticker]])\n",
    "        continue\n",
    "\n",
    "    # short circuit for RegNMS\n",
    "    if iex_region == \"US\":\n",
    "        # skip lookup\n",
    "        iex_tickers.append([numerai_ticker, ticker])\n",
    "        continue\n",
    "\n",
    "    df = symbols_per_region[iex_region]\n",
    "    \n",
    "    # adjust lengths for numerical exchanges\n",
    "    if iex_region == \"HK\":\n",
    "        fill = 5 - len(ticker)\n",
    "        ticker = \"0\" * fill + ticker\n",
    "    if iex_region == \"HK\":\n",
    "        fill = 5 - len(ticker)\n",
    "        ticker = \"0\" * fill + ticker\n",
    "\n",
    "    # adjust suffix to filter down multiple matches\n",
    "    suffix = \"\"\n",
    "    if iex_region == \"HK\":\n",
    "        # omit HKHKSG and HKHKSZ\n",
    "        suffix = \"HK\"\n",
    "    elif iex_region == \"ES\":\n",
    "        # use Bolsa de Madrid instead of Valencia\n",
    "        suffix = \"SA\"\n",
    "    elif iex_region == \"ID\":\n",
    "        # use main exchange\n",
    "        suffix = \"IJ\"\n",
    "    elif iex_region == \"DK\" and numerai_ticker.endswith(\"B DC\"):\n",
    "        # Normalize spacing\n",
    "        ticker = ticker[:-1] + \" B\"\n",
    "    elif iex_region == \"SE\" and numerai_ticker.endswith(\"B SS\"):\n",
    "        # Normalize spacing\n",
    "        ticker = ticker[:-1] + \" B\"\n",
    "    elif iex_region == \"SE\" and numerai_ticker.endswith(\"A SS\"):\n",
    "        # Normalize spacing\n",
    "        ticker = ticker[:-1] + \" A\"\n",
    "    elif iex_region == \"SE\" and numerai_ticker.endswith(\"C SS\"):\n",
    "        # Normalize spacing\n",
    "        ticker = ticker[:-1] + \" C\"\n",
    "\n",
    "    if country == \"GR\":\n",
    "        # use Xetra\n",
    "        suffix = \"GY\"\n",
    "    \n",
    "    # IEX formatting\n",
    "    suffix = \"-\" + suffix\n",
    "    ticker = ticker.replace(\"/\", \".\").replace(\"*\", \"\")\n",
    "\n",
    "    satisfying_records = df[df.index.str.startswith(f\"{ticker}{suffix}\")].index\n",
    "\n",
    "    if len(satisfying_records) != 1:\n",
    "        if len(satisfying_records) == 0:\n",
    "            # FIXME no coverage\n",
    "            if iex_region != \"ZA\":\n",
    "                no_matches.append([ticker, iex_region])\n",
    "        elif len(satisfying_records) > 1:\n",
    "            multiple_matches.append([ticker, iex_region])\n",
    "\n",
    "        iex_tickers.append([numerai_ticker, \"\"])\n",
    "    else:\n",
    "        iex_tickers.append([numerai_ticker, satisfying_records[0]])\n",
    "    "
   ]
  },
  {
   "cell_type": "code",
   "execution_count": 8,
   "metadata": {
    "colab": {
     "base_uri": "https://localhost:8080/",
     "height": 34
    },
    "id": "xZGJoRxJUTwV",
    "outputId": "43711d91-66c3-44bb-c5e6-ae2becfcd41c"
   },
   "outputs": [
    {
     "data": {
      "text/plain": [
       "10"
      ]
     },
     "execution_count": 8,
     "metadata": {},
     "output_type": "execute_result"
    }
   ],
   "source": [
    "len(no_matches)"
   ]
  },
  {
   "cell_type": "code",
   "execution_count": 9,
   "metadata": {
    "colab": {
     "base_uri": "https://localhost:8080/",
     "height": 34
    },
    "id": "xZGJoRxJUTwV",
    "outputId": "43711d91-66c3-44bb-c5e6-ae2becfcd41c"
   },
   "outputs": [
    {
     "data": {
      "text/plain": [
       "0"
      ]
     },
     "execution_count": 9,
     "metadata": {},
     "output_type": "execute_result"
    }
   ],
   "source": [
    "len(multiple_matches)"
   ]
  },
  {
   "cell_type": "code",
   "execution_count": 10,
   "metadata": {},
   "outputs": [],
   "source": [
    "df = pd.DataFrame(iex_tickers, columns=[\"numerai_ticker\", \"iex_ticker\"])\n",
    "df.to_csv(\"ticker_map.csv\", index=False)"
   ]
  },
  {
   "cell_type": "code",
   "execution_count": 11,
   "metadata": {},
   "outputs": [
    {
     "data": {
      "text/plain": [
       "53"
      ]
     },
     "execution_count": 11,
     "metadata": {},
     "output_type": "execute_result"
    }
   ],
   "source": [
    "# Audit\n",
    "len(df[df.iex_ticker == \"\"])"
   ]
  },
  {
   "cell_type": "code",
   "execution_count": 12,
   "metadata": {},
   "outputs": [
    {
     "data": {
      "text/plain": [
       "5377"
      ]
     },
     "execution_count": 12,
     "metadata": {},
     "output_type": "execute_result"
    }
   ],
   "source": [
    "# Original\n",
    "len(numerai_tickers)"
   ]
  },
  {
   "cell_type": "code",
   "execution_count": 13,
   "metadata": {},
   "outputs": [
    {
     "name": "stdout",
     "output_type": "stream",
     "text": [
      "5377\n",
      "Coverage 99.0%\n"
     ]
    }
   ],
   "source": [
    "# Mapped\n",
    "print(len(df))\n",
    "\n",
    "coverage_pct = len(df[df.iex_ticker != \"\"]) / len(numerai_tickers) * 100\n",
    "print(f\"Coverage {coverage_pct:0.1f}%\")"
   ]
  },
  {
   "cell_type": "code",
   "execution_count": null,
   "metadata": {},
   "outputs": [],
   "source": []
  }
 ],
 "metadata": {
  "kernelspec": {
   "display_name": "Python 3",
   "language": "python",
   "name": "python3"
  },
  "language_info": {
   "codemirror_mode": {
    "name": "ipython",
    "version": 3
   },
   "file_extension": ".py",
   "mimetype": "text/x-python",
   "name": "python",
   "nbconvert_exporter": "python",
   "pygments_lexer": "ipython3",
   "version": "3.9.6"
  }
 },
 "nbformat": 4,
 "nbformat_minor": 4
}
